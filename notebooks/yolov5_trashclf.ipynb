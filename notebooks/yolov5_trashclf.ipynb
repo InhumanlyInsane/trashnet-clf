{
  "nbformat": 4,
  "nbformat_minor": 0,
  "metadata": {
    "colab": {
      "provenance": [],
      "gpuType": "T4"
    },
    "kernelspec": {
      "name": "python3",
      "display_name": "Python 3"
    },
    "language_info": {
      "name": "python"
    },
    "accelerator": "GPU"
  },
  "cells": [
    {
      "cell_type": "code",
      "execution_count": 1,
      "metadata": {
        "colab": {
          "base_uri": "https://localhost:8080/"
        },
        "id": "zph8w3ViQHS1",
        "outputId": "f5b7fc78-d57f-49be-b6bf-d971b0d8a370"
      },
      "outputs": [
        {
          "output_type": "stream",
          "name": "stdout",
          "text": [
            "\u001b[?25l   \u001b[90m━━━━━━━━━━━━━━━━━━━━━━━━━━━━━━━━━━━━━━━━\u001b[0m \u001b[32m0.0/81.5 kB\u001b[0m \u001b[31m?\u001b[0m eta \u001b[36m-:--:--\u001b[0m\r\u001b[2K   \u001b[90m━━━━━━━━━━━━━━━━━━━━━━━━━━━━━━━━━━━━━━━━\u001b[0m \u001b[32m81.5/81.5 kB\u001b[0m \u001b[31m4.9 MB/s\u001b[0m eta \u001b[36m0:00:00\u001b[0m\n",
            "\u001b[?25h\u001b[?25l   \u001b[90m━━━━━━━━━━━━━━━━━━━━━━━━━━━━━━━━━━━━━━━━\u001b[0m \u001b[32m0.0/66.8 kB\u001b[0m \u001b[31m?\u001b[0m eta \u001b[36m-:--:--\u001b[0m\r\u001b[2K   \u001b[90m━━━━━━━━━━━━━━━━━━━━━━━━━━━━━━━━━━━━━━━━\u001b[0m \u001b[32m66.8/66.8 kB\u001b[0m \u001b[31m3.1 MB/s\u001b[0m eta \u001b[36m0:00:00\u001b[0m\n",
            "\u001b[?25h"
          ]
        }
      ],
      "source": [
        "!pip install -qq wandb roboflow"
      ]
    },
    {
      "cell_type": "code",
      "source": [
        "import wandb\n",
        "wandb.login()"
      ],
      "metadata": {
        "colab": {
          "base_uri": "https://localhost:8080/",
          "height": 89
        },
        "id": "0E-zQMxSQJBD",
        "outputId": "b507ab4f-61c4-405b-e9e1-400d6261cebd"
      },
      "execution_count": 2,
      "outputs": [
        {
          "output_type": "stream",
          "name": "stderr",
          "text": [
            "\u001b[34m\u001b[1mwandb\u001b[0m: Using wandb-core as the SDK backend.  Please refer to https://wandb.me/wandb-core for more information.\n"
          ]
        },
        {
          "output_type": "display_data",
          "data": {
            "text/plain": [
              "<IPython.core.display.Javascript object>"
            ],
            "application/javascript": [
              "\n",
              "        window._wandbApiKey = new Promise((resolve, reject) => {\n",
              "            function loadScript(url) {\n",
              "            return new Promise(function(resolve, reject) {\n",
              "                let newScript = document.createElement(\"script\");\n",
              "                newScript.onerror = reject;\n",
              "                newScript.onload = resolve;\n",
              "                document.body.appendChild(newScript);\n",
              "                newScript.src = url;\n",
              "            });\n",
              "            }\n",
              "            loadScript(\"https://cdn.jsdelivr.net/npm/postmate/build/postmate.min.js\").then(() => {\n",
              "            const iframe = document.createElement('iframe')\n",
              "            iframe.style.cssText = \"width:0;height:0;border:none\"\n",
              "            document.body.appendChild(iframe)\n",
              "            const handshake = new Postmate({\n",
              "                container: iframe,\n",
              "                url: 'https://wandb.ai/authorize'\n",
              "            });\n",
              "            const timeout = setTimeout(() => reject(\"Couldn't auto authenticate\"), 5000)\n",
              "            handshake.then(function(child) {\n",
              "                child.on('authorize', data => {\n",
              "                    clearTimeout(timeout)\n",
              "                    resolve(data)\n",
              "                });\n",
              "            });\n",
              "            })\n",
              "        });\n",
              "    "
            ]
          },
          "metadata": {}
        },
        {
          "output_type": "stream",
          "name": "stderr",
          "text": [
            "\u001b[34m\u001b[1mwandb\u001b[0m: Appending key for api.wandb.ai to your netrc file: /root/.netrc\n"
          ]
        },
        {
          "output_type": "execute_result",
          "data": {
            "text/plain": [
              "True"
            ]
          },
          "metadata": {},
          "execution_count": 2
        }
      ]
    },
    {
      "cell_type": "code",
      "source": [
        "# from roboflow import Roboflow\n",
        "# from google.colab import userdata\n",
        "\n",
        "# rf = Roboflow(api_key=userdata.get(\"ROBOFLOW\"))\n",
        "# project = rf.workspace(\"my-workspace-wpvic\").project(\"trash-type-classification\")\n",
        "# version = project.version(1)\n",
        "# dataset = version.download(\"folder\")\n",
        "\n",
        "# !mv ./Trash-Type-Classification-1/valid ./Trash-Type-Classification-1/val"
      ],
      "metadata": {
        "colab": {
          "base_uri": "https://localhost:8080/"
        },
        "id": "8oxH-9Y7QaMM",
        "outputId": "df97a253-334c-4737-f3c0-90ee29048d8a"
      },
      "execution_count": 3,
      "outputs": [
        {
          "output_type": "stream",
          "name": "stdout",
          "text": [
            "loading Roboflow workspace...\n",
            "loading Roboflow project...\n"
          ]
        },
        {
          "output_type": "stream",
          "name": "stderr",
          "text": [
            "Downloading Dataset Version Zip in Trash-Type-Classification-1 to folder:: 100%|██████████| 42820/42820 [00:01<00:00, 22053.10it/s]"
          ]
        },
        {
          "output_type": "stream",
          "name": "stdout",
          "text": [
            "\n"
          ]
        },
        {
          "output_type": "stream",
          "name": "stderr",
          "text": [
            "\n",
            "Extracting Dataset Version Zip to Trash-Type-Classification-1 in folder:: 100%|██████████| 2540/2540 [00:01<00:00, 1969.17it/s]\n"
          ]
        }
      ]
    },
    {
      "cell_type": "code",
      "source": [
        "!git clone https://github.com/InhumanlyInsane/trashnet-clf.git\n",
        "!pip install -r trashnet-clf/requirements.txt\n",
        "!python trashnet-clf/dataset_collection.py"
      ],
      "metadata": {
        "colab": {
          "base_uri": "https://localhost:8080/"
        },
        "id": "Hfy0Ejp6iAxL",
        "outputId": "c70d4dfc-1546-4bc5-e3e0-0de671cbd1bf"
      },
      "execution_count": 4,
      "outputs": [
        {
          "output_type": "stream",
          "name": "stdout",
          "text": [
            "Cloning into 'trashnet-clf'...\n",
            "remote: Enumerating objects: 35, done.\u001b[K\n",
            "remote: Counting objects: 100% (35/35), done.\u001b[K\n",
            "remote: Compressing objects: 100% (23/23), done.\u001b[K\n",
            "remote: Total 35 (delta 13), reused 27 (delta 8), pack-reused 0 (from 0)\u001b[K\n",
            "Receiving objects: 100% (35/35), 15.68 KiB | 258.00 KiB/s, done.\n",
            "Resolving deltas: 100% (13/13), done.\n",
            "Requirement already satisfied: albumentations in /usr/local/lib/python3.10/dist-packages (from -r trashnet-clf/requirements.txt (line 1)) (1.4.20)\n",
            "Requirement already satisfied: opencv-python in /usr/local/lib/python3.10/dist-packages (from -r trashnet-clf/requirements.txt (line 2)) (4.10.0.84)\n",
            "Requirement already satisfied: huggingface_hub in /usr/local/lib/python3.10/dist-packages (from -r trashnet-clf/requirements.txt (line 3)) (0.27.0)\n",
            "Requirement already satisfied: torch in /usr/local/lib/python3.10/dist-packages (from -r trashnet-clf/requirements.txt (line 4)) (2.5.1+cu121)\n",
            "Requirement already satisfied: torchvision in /usr/local/lib/python3.10/dist-packages (from -r trashnet-clf/requirements.txt (line 5)) (0.20.1+cu121)\n",
            "Requirement already satisfied: numpy in /usr/local/lib/python3.10/dist-packages (from -r trashnet-clf/requirements.txt (line 6)) (1.26.4)\n",
            "Requirement already satisfied: pandas in /usr/local/lib/python3.10/dist-packages (from -r trashnet-clf/requirements.txt (line 7)) (2.2.2)\n",
            "Requirement already satisfied: wandb in /usr/local/lib/python3.10/dist-packages (from -r trashnet-clf/requirements.txt (line 8)) (0.19.1)\n",
            "Requirement already satisfied: scipy>=1.10.0 in /usr/local/lib/python3.10/dist-packages (from albumentations->-r trashnet-clf/requirements.txt (line 1)) (1.13.1)\n",
            "Requirement already satisfied: PyYAML in /usr/local/lib/python3.10/dist-packages (from albumentations->-r trashnet-clf/requirements.txt (line 1)) (6.0.2)\n",
            "Requirement already satisfied: pydantic>=2.7.0 in /usr/local/lib/python3.10/dist-packages (from albumentations->-r trashnet-clf/requirements.txt (line 1)) (2.10.3)\n",
            "Requirement already satisfied: albucore==0.0.19 in /usr/local/lib/python3.10/dist-packages (from albumentations->-r trashnet-clf/requirements.txt (line 1)) (0.0.19)\n",
            "Requirement already satisfied: eval-type-backport in /usr/local/lib/python3.10/dist-packages (from albumentations->-r trashnet-clf/requirements.txt (line 1)) (0.2.0)\n",
            "Requirement already satisfied: opencv-python-headless>=4.9.0.80 in /usr/local/lib/python3.10/dist-packages (from albumentations->-r trashnet-clf/requirements.txt (line 1)) (4.10.0.84)\n",
            "Requirement already satisfied: stringzilla>=3.10.4 in /usr/local/lib/python3.10/dist-packages (from albucore==0.0.19->albumentations->-r trashnet-clf/requirements.txt (line 1)) (3.11.1)\n",
            "Requirement already satisfied: filelock in /usr/local/lib/python3.10/dist-packages (from huggingface_hub->-r trashnet-clf/requirements.txt (line 3)) (3.16.1)\n",
            "Requirement already satisfied: fsspec>=2023.5.0 in /usr/local/lib/python3.10/dist-packages (from huggingface_hub->-r trashnet-clf/requirements.txt (line 3)) (2024.10.0)\n",
            "Requirement already satisfied: packaging>=20.9 in /usr/local/lib/python3.10/dist-packages (from huggingface_hub->-r trashnet-clf/requirements.txt (line 3)) (24.2)\n",
            "Requirement already satisfied: requests in /usr/local/lib/python3.10/dist-packages (from huggingface_hub->-r trashnet-clf/requirements.txt (line 3)) (2.32.3)\n",
            "Requirement already satisfied: tqdm>=4.42.1 in /usr/local/lib/python3.10/dist-packages (from huggingface_hub->-r trashnet-clf/requirements.txt (line 3)) (4.67.1)\n",
            "Requirement already satisfied: typing-extensions>=3.7.4.3 in /usr/local/lib/python3.10/dist-packages (from huggingface_hub->-r trashnet-clf/requirements.txt (line 3)) (4.12.2)\n",
            "Requirement already satisfied: networkx in /usr/local/lib/python3.10/dist-packages (from torch->-r trashnet-clf/requirements.txt (line 4)) (3.4.2)\n",
            "Requirement already satisfied: jinja2 in /usr/local/lib/python3.10/dist-packages (from torch->-r trashnet-clf/requirements.txt (line 4)) (3.1.4)\n",
            "Requirement already satisfied: sympy==1.13.1 in /usr/local/lib/python3.10/dist-packages (from torch->-r trashnet-clf/requirements.txt (line 4)) (1.13.1)\n",
            "Requirement already satisfied: mpmath<1.4,>=1.1.0 in /usr/local/lib/python3.10/dist-packages (from sympy==1.13.1->torch->-r trashnet-clf/requirements.txt (line 4)) (1.3.0)\n",
            "Requirement already satisfied: pillow!=8.3.*,>=5.3.0 in /usr/local/lib/python3.10/dist-packages (from torchvision->-r trashnet-clf/requirements.txt (line 5)) (11.0.0)\n",
            "Requirement already satisfied: python-dateutil>=2.8.2 in /usr/local/lib/python3.10/dist-packages (from pandas->-r trashnet-clf/requirements.txt (line 7)) (2.8.2)\n",
            "Requirement already satisfied: pytz>=2020.1 in /usr/local/lib/python3.10/dist-packages (from pandas->-r trashnet-clf/requirements.txt (line 7)) (2024.2)\n",
            "Requirement already satisfied: tzdata>=2022.7 in /usr/local/lib/python3.10/dist-packages (from pandas->-r trashnet-clf/requirements.txt (line 7)) (2024.2)\n",
            "Requirement already satisfied: click!=8.0.0,>=7.1 in /usr/local/lib/python3.10/dist-packages (from wandb->-r trashnet-clf/requirements.txt (line 8)) (8.1.7)\n",
            "Requirement already satisfied: docker-pycreds>=0.4.0 in /usr/local/lib/python3.10/dist-packages (from wandb->-r trashnet-clf/requirements.txt (line 8)) (0.4.0)\n",
            "Requirement already satisfied: gitpython!=3.1.29,>=1.0.0 in /usr/local/lib/python3.10/dist-packages (from wandb->-r trashnet-clf/requirements.txt (line 8)) (3.1.43)\n",
            "Requirement already satisfied: platformdirs in /usr/local/lib/python3.10/dist-packages (from wandb->-r trashnet-clf/requirements.txt (line 8)) (4.3.6)\n",
            "Requirement already satisfied: protobuf!=4.21.0,!=5.28.0,<6,>=3.19.0 in /usr/local/lib/python3.10/dist-packages (from wandb->-r trashnet-clf/requirements.txt (line 8)) (4.25.5)\n",
            "Requirement already satisfied: psutil>=5.0.0 in /usr/local/lib/python3.10/dist-packages (from wandb->-r trashnet-clf/requirements.txt (line 8)) (5.9.5)\n",
            "Requirement already satisfied: sentry-sdk>=2.0.0 in /usr/local/lib/python3.10/dist-packages (from wandb->-r trashnet-clf/requirements.txt (line 8)) (2.19.2)\n",
            "Requirement already satisfied: setproctitle in /usr/local/lib/python3.10/dist-packages (from wandb->-r trashnet-clf/requirements.txt (line 8)) (1.3.4)\n",
            "Requirement already satisfied: setuptools in /usr/local/lib/python3.10/dist-packages (from wandb->-r trashnet-clf/requirements.txt (line 8)) (75.1.0)\n",
            "Requirement already satisfied: six>=1.4.0 in /usr/local/lib/python3.10/dist-packages (from docker-pycreds>=0.4.0->wandb->-r trashnet-clf/requirements.txt (line 8)) (1.17.0)\n",
            "Requirement already satisfied: gitdb<5,>=4.0.1 in /usr/local/lib/python3.10/dist-packages (from gitpython!=3.1.29,>=1.0.0->wandb->-r trashnet-clf/requirements.txt (line 8)) (4.0.11)\n",
            "Requirement already satisfied: annotated-types>=0.6.0 in /usr/local/lib/python3.10/dist-packages (from pydantic>=2.7.0->albumentations->-r trashnet-clf/requirements.txt (line 1)) (0.7.0)\n",
            "Requirement already satisfied: pydantic-core==2.27.1 in /usr/local/lib/python3.10/dist-packages (from pydantic>=2.7.0->albumentations->-r trashnet-clf/requirements.txt (line 1)) (2.27.1)\n",
            "Requirement already satisfied: charset-normalizer<4,>=2 in /usr/local/lib/python3.10/dist-packages (from requests->huggingface_hub->-r trashnet-clf/requirements.txt (line 3)) (3.4.0)\n",
            "Requirement already satisfied: idna<4,>=2.5 in /usr/local/lib/python3.10/dist-packages (from requests->huggingface_hub->-r trashnet-clf/requirements.txt (line 3)) (3.7)\n",
            "Requirement already satisfied: urllib3<3,>=1.21.1 in /usr/local/lib/python3.10/dist-packages (from requests->huggingface_hub->-r trashnet-clf/requirements.txt (line 3)) (2.2.3)\n",
            "Requirement already satisfied: certifi>=2017.4.17 in /usr/local/lib/python3.10/dist-packages (from requests->huggingface_hub->-r trashnet-clf/requirements.txt (line 3)) (2024.12.14)\n",
            "Requirement already satisfied: MarkupSafe>=2.0 in /usr/local/lib/python3.10/dist-packages (from jinja2->torch->-r trashnet-clf/requirements.txt (line 4)) (3.0.2)\n",
            "Requirement already satisfied: smmap<6,>=3.0.1 in /usr/local/lib/python3.10/dist-packages (from gitdb<5,>=4.0.1->gitpython!=3.1.29,>=1.0.0->wandb->-r trashnet-clf/requirements.txt (line 8)) (5.0.1)\n",
            "/usr/local/lib/python3.10/dist-packages/albumentations/__init__.py:24: UserWarning: A new version of Albumentations is available: 1.4.23 (you have 1.4.20). Upgrade using: pip install -U albumentations. To disable automatic update checks, set the environment variable NO_ALBUMENTATIONS_UPDATE to 1.\n",
            "  check_for_updates()\n",
            "dataset-resized.zip: 100% 42.8M/42.8M [00:00<00:00, 185MB/s]\n",
            "Augmenting glass class images 1 times each...\n",
            "100% 400/400 [00:06<00:00, 61.49it/s]\n",
            "Augmenting cardboard class images 1 times each...\n",
            "100% 322/322 [00:04<00:00, 68.55it/s]\n",
            "Augmenting metal class images 1 times each...\n",
            "100% 328/328 [00:06<00:00, 54.31it/s]\n",
            "Augmenting plastic class images 1 times each...\n",
            "100% 385/385 [00:05<00:00, 72.32it/s]\n",
            "Balanced data augmentation completed!\n"
          ]
        }
      ]
    },
    {
      "cell_type": "code",
      "source": [
        "!git clone https://github.com/ultralytics/yolov5.git\n",
        "!pip install -qr ./yolov5/requirements.txt"
      ],
      "metadata": {
        "colab": {
          "base_uri": "https://localhost:8080/"
        },
        "id": "HAcez08DRBwm",
        "outputId": "64a1d8e2-422a-4a0d-d407-9cd2a0d9d8cf"
      },
      "execution_count": 5,
      "outputs": [
        {
          "output_type": "stream",
          "name": "stdout",
          "text": [
            "Cloning into 'yolov5'...\n",
            "remote: Enumerating objects: 17075, done.\u001b[K\n",
            "remote: Counting objects: 100% (26/26), done.\u001b[K\n",
            "remote: Compressing objects: 100% (19/19), done.\u001b[K\n",
            "remote: Total 17075 (delta 19), reused 7 (delta 7), pack-reused 17049 (from 2)\u001b[K\n",
            "Receiving objects: 100% (17075/17075), 15.68 MiB | 18.63 MiB/s, done.\n",
            "Resolving deltas: 100% (11719/11719), done.\n",
            "\u001b[2K   \u001b[90m━━━━━━━━━━━━━━━━━━━━━━━━━━━━━━━━━━━━━━━━\u001b[0m \u001b[32m901.7/901.7 kB\u001b[0m \u001b[31m29.2 MB/s\u001b[0m eta \u001b[36m0:00:00\u001b[0m\n",
            "\u001b[?25h"
          ]
        }
      ]
    },
    {
      "cell_type": "markdown",
      "source": [
        "# Training"
      ],
      "metadata": {
        "id": "KVgKgmh3lV6S"
      }
    },
    {
      "cell_type": "code",
      "source": [
        "%cd yolov5\n",
        "!python classify/train.py --model yolov5s-cls.pt --data ../data-main --epochs 50 --img-size 512 --pretrained weights/yolov5s-cls.pt"
      ],
      "metadata": {
        "colab": {
          "base_uri": "https://localhost:8080/"
        },
        "id": "ikWCfNtQQbaz",
        "outputId": "eb6bbb39-30c2-4fe7-eb52-b1acf307205f"
      },
      "execution_count": 6,
      "outputs": [
        {
          "output_type": "stream",
          "name": "stdout",
          "text": [
            "/content/yolov5\n",
            "Creating new Ultralytics Settings v0.0.6 file ✅ \n",
            "View Ultralytics Settings with 'yolo settings' or at '/root/.config/Ultralytics/settings.json'\n",
            "Update Settings with 'yolo settings key=value', i.e. 'yolo settings runs_dir=path/to/dir'. For help see https://docs.ultralytics.com/quickstart/#ultralytics-settings.\n",
            "\u001b[34m\u001b[1mwandb\u001b[0m: WARNING ⚠️ wandb is deprecated and will be removed in a future release. See supported integrations at https://github.com/ultralytics/yolov5#integrations.\n",
            "2024-12-21 14:08:27.952923: E external/local_xla/xla/stream_executor/cuda/cuda_fft.cc:485] Unable to register cuFFT factory: Attempting to register factory for plugin cuFFT when one has already been registered\n",
            "2024-12-21 14:08:27.985585: E external/local_xla/xla/stream_executor/cuda/cuda_dnn.cc:8454] Unable to register cuDNN factory: Attempting to register factory for plugin cuDNN when one has already been registered\n",
            "2024-12-21 14:08:27.995486: E external/local_xla/xla/stream_executor/cuda/cuda_blas.cc:1452] Unable to register cuBLAS factory: Attempting to register factory for plugin cuBLAS when one has already been registered\n",
            "\u001b[34m\u001b[1mwandb\u001b[0m: Currently logged in as: \u001b[33msoyokaze83\u001b[0m (\u001b[33msoyokaze83-universitas-indonesia\u001b[0m). Use \u001b[1m`wandb login --relogin`\u001b[0m to force relogin\n",
            "\u001b[34m\u001b[1mclassify/train: \u001b[0mmodel=yolov5s-cls.pt, data=../data-main, epochs=50, batch_size=64, imgsz=512, nosave=False, cache=None, device=, workers=8, project=runs/train-cls, name=exp, exist_ok=False, pretrained=weights/yolov5s-cls.pt, optimizer=Adam, lr0=0.001, decay=5e-05, label_smoothing=0.1, cutoff=None, dropout=None, verbose=False, seed=0, local_rank=-1\n",
            "\u001b[34m\u001b[1mgithub: \u001b[0mup to date with https://github.com/ultralytics/yolov5 ✅\n",
            "YOLOv5 🚀 v7.0-389-ge62a31b6 Python-3.10.12 torch-2.5.1+cu121 CUDA:0 (Tesla T4, 15102MiB)\n",
            "\n",
            "\u001b[34m\u001b[1mTensorBoard: \u001b[0mStart with 'tensorboard --logdir runs/train-cls', view at http://localhost:6006/\n",
            "\u001b[34m\u001b[1mwandb\u001b[0m: Tracking run with wandb version 0.19.1\n",
            "\u001b[34m\u001b[1mwandb\u001b[0m: Run data is saved locally in \u001b[35m\u001b[1m/content/yolov5/wandb/run-20241221_140831-koth9i9s\u001b[0m\n",
            "\u001b[34m\u001b[1mwandb\u001b[0m: Run \u001b[1m`wandb offline`\u001b[0m to turn off syncing.\n",
            "\u001b[34m\u001b[1mwandb\u001b[0m: Syncing run \u001b[33mearnest-silence-6\u001b[0m\n",
            "\u001b[34m\u001b[1mwandb\u001b[0m: ⭐️ View project at \u001b[34m\u001b[4mhttps://wandb.ai/soyokaze83-universitas-indonesia/YOLOv5-Classify\u001b[0m\n",
            "\u001b[34m\u001b[1mwandb\u001b[0m: 🚀 View run at \u001b[34m\u001b[4mhttps://wandb.ai/soyokaze83-universitas-indonesia/YOLOv5-Classify/runs/koth9i9s\u001b[0m\n",
            "\u001b[34m\u001b[1malbumentations: \u001b[0mRandomResizedCrop(p=1.0, size=(512, 512), scale=(0.08, 1.0), ratio=(0.75, 1.3333333333333333), interpolation=1, mask_interpolation=0), HorizontalFlip(p=0.5), ColorJitter(p=0.5, brightness=(0.6, 1.4), contrast=(0.6, 1.4), saturation=(0.6, 1.4), hue=(0.0, 0.0)), Normalize(p=1.0, mean=(0.485, 0.456, 0.406), std=(0.229, 0.224, 0.225), max_pixel_value=255.0, normalization='standard'), ToTensorV2(p=1.0, transpose_mask=False)\n",
            "Downloading https://github.com/ultralytics/yolov5/releases/download/v7.0/yolov5s-cls.pt to yolov5s-cls.pt...\n",
            "100% 10.5M/10.5M [00:00<00:00, 83.7MB/s]\n",
            "\n",
            "Model summary: 149 layers, 4178885 parameters, 4178885 gradients, 10.5 GFLOPs\n",
            "\u001b[34m\u001b[1moptimizer:\u001b[0m Adam(lr=0.001) with parameter groups 32 weight(decay=0.0), 33 weight(decay=5e-05), 33 bias\n",
            "/content/yolov5/classify/train.py:201: FutureWarning: `torch.cuda.amp.GradScaler(args...)` is deprecated. Please use `torch.amp.GradScaler('cuda', args...)` instead.\n",
            "  scaler = amp.GradScaler(enabled=cuda)\n",
            "Image sizes 512 train, 512 test\n",
            "Using 1 dataloader workers\n",
            "Logging results to \u001b[1mruns/train-cls/exp\u001b[0m\n",
            "Starting yolov5s-cls.pt training on ../data-main dataset with 5 classes for 50 epochs...\n",
            "\n",
            "     Epoch   GPU_mem  train_loss    val_loss    top1_acc    top5_acc\n",
            "  0% 0/53 [00:00<?, ?it/s]/content/yolov5/classify/train.py:222: FutureWarning: `torch.cuda.amp.autocast(args...)` is deprecated. Please use `torch.amp.autocast('cuda', args...)` instead.\n",
            "  with amp.autocast(enabled=cuda):  # stability issues when enabled\n",
            "      1/50     6.87G        1.49                          validating:   0% 0/4 [00:00<?, ?it/s]/content/yolov5/classify/val.py:111: FutureWarning: `torch.cuda.amp.autocast(args...)` is deprecated. Please use `torch.amp.autocast('cuda', args...)` instead.\n",
            "  with torch.cuda.amp.autocast(enabled=device.type != \"cpu\"):\n",
            "      1/50     6.87G        1.49        1.57       0.294           1: 100% 53/53 [00:41<00:00,  1.29it/s]\n",
            "      2/50     8.22G        1.41        1.49       0.413           1: 100% 53/53 [00:45<00:00,  1.17it/s]\n",
            "      3/50     8.22G        1.41        1.48       0.423           1: 100% 53/53 [00:40<00:00,  1.31it/s]\n",
            "      4/50     8.22G        1.37        1.51       0.413           1: 100% 53/53 [00:42<00:00,  1.23it/s]\n",
            "      5/50     8.22G        1.37        1.94       0.344           1: 100% 53/53 [00:44<00:00,  1.19it/s]\n",
            "      6/50     8.22G        1.37        1.43       0.452           1: 100% 53/53 [00:44<00:00,  1.19it/s]\n",
            "      7/50     8.22G        1.33        1.33       0.527           1: 100% 53/53 [00:42<00:00,  1.23it/s]\n",
            "      8/50     8.22G         1.3        1.62       0.421           1: 100% 53/53 [00:40<00:00,  1.31it/s]\n",
            "      9/50     8.22G        1.32        1.43       0.444           1: 100% 53/53 [00:43<00:00,  1.23it/s]\n",
            "     10/50     8.22G         1.3        1.24       0.562           1: 100% 53/53 [00:40<00:00,  1.30it/s]\n",
            "     11/50     8.22G        1.31         1.2       0.571           1: 100% 53/53 [00:45<00:00,  1.16it/s]\n",
            "     12/50     8.22G        1.27         1.4       0.496           1: 100% 53/53 [00:40<00:00,  1.29it/s]\n",
            "     13/50     8.22G        1.26        1.22       0.523           1: 100% 53/53 [00:43<00:00,  1.22it/s]\n",
            "     14/50     8.22G        1.22        1.24       0.523           1: 100% 53/53 [00:41<00:00,  1.28it/s]\n",
            "     15/50     8.22G        1.24        1.32       0.577           1: 100% 53/53 [00:45<00:00,  1.16it/s]\n",
            "     16/50     8.22G        1.23        1.26       0.581           1: 100% 53/53 [00:42<00:00,  1.26it/s]\n",
            "     17/50     8.22G        1.21        1.64       0.444           1: 100% 53/53 [00:42<00:00,  1.24it/s]\n",
            "     18/50     8.22G        1.18        1.29       0.494           1: 100% 53/53 [00:42<00:00,  1.24it/s]\n",
            "     19/50     8.22G        1.18        1.17         0.6           1: 100% 53/53 [00:42<00:00,  1.23it/s]\n",
            "     20/50     8.22G        1.17        1.13        0.61           1: 100% 53/53 [00:42<00:00,  1.24it/s]\n",
            "     21/50     8.22G        1.17        1.14       0.621           1: 100% 53/53 [00:41<00:00,  1.28it/s]\n",
            "     22/50     8.22G        1.16        1.12       0.617           1: 100% 53/53 [00:42<00:00,  1.25it/s]\n",
            "     23/50     8.22G        1.13        1.06       0.688           1: 100% 53/53 [00:40<00:00,  1.31it/s]\n",
            "     24/50     8.22G        1.12        1.18       0.604           1: 100% 53/53 [00:44<00:00,  1.18it/s]\n",
            "     25/50     8.22G        1.11        1.04        0.65           1: 100% 53/53 [00:40<00:00,  1.31it/s]\n",
            "     26/50     8.22G        1.12        1.01       0.675           1: 100% 53/53 [00:42<00:00,  1.25it/s]\n",
            "     27/50     8.22G        1.11        1.04       0.671           1: 100% 53/53 [00:41<00:00,  1.27it/s]\n",
            "     28/50     8.22G        1.09       0.968       0.696           1: 100% 53/53 [00:43<00:00,  1.22it/s]\n",
            "     29/50     8.22G        1.07           1       0.694           1: 100% 53/53 [00:42<00:00,  1.26it/s]\n",
            "     30/50     8.22G        1.07       0.998       0.688           1: 100% 53/53 [00:40<00:00,  1.32it/s]\n",
            "     31/50     8.22G        1.07       0.993       0.721           1: 100% 53/53 [00:42<00:00,  1.25it/s]\n",
            "     32/50     8.22G        1.05       0.935       0.729           1: 100% 53/53 [00:43<00:00,  1.22it/s]\n",
            "     33/50     8.22G        1.05       0.974       0.704           1: 100% 53/53 [00:41<00:00,  1.27it/s]\n",
            "     34/50     8.22G        1.05       0.936       0.727           1: 100% 53/53 [00:41<00:00,  1.29it/s]\n",
            "     35/50     8.22G        1.02        1.09       0.602           1: 100% 53/53 [00:40<00:00,  1.29it/s]\n",
            "     36/50     8.22G        1.01        0.96       0.704           1: 100% 53/53 [00:41<00:00,  1.26it/s]\n",
            "     37/50     8.22G        1.03       0.955       0.723           1: 100% 53/53 [00:42<00:00,  1.24it/s]\n",
            "     38/50     8.22G       0.998        1.33       0.515           1: 100% 53/53 [00:41<00:00,  1.27it/s]\n",
            "     39/50     8.22G       0.999       0.942       0.752           1: 100% 53/53 [00:40<00:00,  1.31it/s]\n",
            "     40/50     8.22G       0.985       0.902       0.756           1: 100% 53/53 [00:42<00:00,  1.25it/s]\n",
            "     41/50     8.22G       0.978       0.899        0.74           1: 100% 53/53 [00:42<00:00,  1.25it/s]\n",
            "     42/50     8.22G       0.981       0.913       0.735           1: 100% 53/53 [00:42<00:00,  1.25it/s]\n",
            "     43/50     8.22G       0.956        0.87       0.777           1: 100% 53/53 [00:39<00:00,  1.33it/s]\n",
            "     44/50     8.22G       0.972        0.86       0.773           1: 100% 53/53 [00:42<00:00,  1.24it/s]\n",
            "     45/50     8.22G       0.954       0.846       0.775           1: 100% 53/53 [00:45<00:00,  1.16it/s]\n",
            "     46/50     8.22G       0.937       0.842       0.771           1: 100% 53/53 [00:54<00:00,  1.03s/it]\n",
            "     47/50     8.22G       0.925       0.837       0.783           1: 100% 53/53 [00:51<00:00,  1.03it/s]\n",
            "     48/50     8.22G       0.925       0.862       0.775           1: 100% 53/53 [00:39<00:00,  1.33it/s]\n",
            "     49/50     8.22G       0.933       0.833       0.779           1: 100% 53/53 [00:41<00:00,  1.27it/s]\n",
            "     50/50     8.22G       0.916        0.83       0.781           1: 100% 53/53 [00:44<00:00,  1.20it/s]\n",
            "\n",
            "Training complete (0.597 hours)\n",
            "Results saved to \u001b[1mruns/train-cls/exp\u001b[0m\n",
            "Predict:         python classify/predict.py --weights runs/train-cls/exp/weights/best.pt --source im.jpg\n",
            "Validate:        python classify/val.py --weights runs/train-cls/exp/weights/best.pt --data ../data-main\n",
            "Export:          python export.py --weights runs/train-cls/exp/weights/best.pt --include onnx\n",
            "PyTorch Hub:     model = torch.hub.load('ultralytics/yolov5', 'custom', 'runs/train-cls/exp/weights/best.pt')\n",
            "Visualize:       https://netron.app\n",
            "\n"
          ]
        }
      ]
    },
    {
      "cell_type": "code",
      "source": [],
      "metadata": {
        "id": "mXvP6L4ljDVa"
      },
      "execution_count": null,
      "outputs": []
    }
  ]
}