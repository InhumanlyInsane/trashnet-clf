{
  "nbformat": 4,
  "nbformat_minor": 0,
  "metadata": {
    "colab": {
      "provenance": [],
      "gpuType": "T4"
    },
    "kernelspec": {
      "name": "python3",
      "display_name": "Python 3"
    },
    "language_info": {
      "name": "python"
    },
    "accelerator": "GPU"
  },
  "cells": [
    {
      "cell_type": "code",
      "execution_count": null,
      "metadata": {
        "colab": {
          "base_uri": "https://localhost:8080/"
        },
        "id": "zph8w3ViQHS1",
        "outputId": "eea49501-f808-483d-ea3d-7e9c367f0d9f"
      },
      "outputs": [
        {
          "output_type": "stream",
          "name": "stdout",
          "text": [
            "\u001b[?25l   \u001b[90m━━━━━━━━━━━━━━━━━━━━━━━━━━━━━━━━━━━━━━━━\u001b[0m \u001b[32m0.0/81.5 kB\u001b[0m \u001b[31m?\u001b[0m eta \u001b[36m-:--:--\u001b[0m\r\u001b[2K   \u001b[90m━━━━━━━━━━━━━━━━━━━━━━━━━━━━━━━━━━━━━━━━\u001b[0m \u001b[32m81.5/81.5 kB\u001b[0m \u001b[31m6.7 MB/s\u001b[0m eta \u001b[36m0:00:00\u001b[0m\n",
            "\u001b[?25h\u001b[?25l   \u001b[90m━━━━━━━━━━━━━━━━━━━━━━━━━━━━━━━━━━━━━━━━\u001b[0m \u001b[32m0.0/66.8 kB\u001b[0m \u001b[31m?\u001b[0m eta \u001b[36m-:--:--\u001b[0m\r\u001b[2K   \u001b[90m━━━━━━━━━━━━━━━━━━━━━━━━━━━━━━━━━━━━━━━━\u001b[0m \u001b[32m66.8/66.8 kB\u001b[0m \u001b[31m6.4 MB/s\u001b[0m eta \u001b[36m0:00:00\u001b[0m\n",
            "\u001b[?25h"
          ]
        }
      ],
      "source": [
        "!pip install -qq wandb roboflow"
      ]
    },
    {
      "cell_type": "code",
      "source": [
        "import wandb\n",
        "wandb.login()"
      ],
      "metadata": {
        "colab": {
          "base_uri": "https://localhost:8080/",
          "height": 138
        },
        "id": "0E-zQMxSQJBD",
        "outputId": "4c0a9943-6387-4ba6-c2fc-72c25191b646"
      },
      "execution_count": null,
      "outputs": [
        {
          "output_type": "stream",
          "name": "stderr",
          "text": [
            "\u001b[34m\u001b[1mwandb\u001b[0m: Using wandb-core as the SDK backend.  Please refer to https://wandb.me/wandb-core for more information.\n"
          ]
        },
        {
          "output_type": "display_data",
          "data": {
            "text/plain": [
              "<IPython.core.display.Javascript object>"
            ],
            "application/javascript": [
              "\n",
              "        window._wandbApiKey = new Promise((resolve, reject) => {\n",
              "            function loadScript(url) {\n",
              "            return new Promise(function(resolve, reject) {\n",
              "                let newScript = document.createElement(\"script\");\n",
              "                newScript.onerror = reject;\n",
              "                newScript.onload = resolve;\n",
              "                document.body.appendChild(newScript);\n",
              "                newScript.src = url;\n",
              "            });\n",
              "            }\n",
              "            loadScript(\"https://cdn.jsdelivr.net/npm/postmate/build/postmate.min.js\").then(() => {\n",
              "            const iframe = document.createElement('iframe')\n",
              "            iframe.style.cssText = \"width:0;height:0;border:none\"\n",
              "            document.body.appendChild(iframe)\n",
              "            const handshake = new Postmate({\n",
              "                container: iframe,\n",
              "                url: 'https://wandb.ai/authorize'\n",
              "            });\n",
              "            const timeout = setTimeout(() => reject(\"Couldn't auto authenticate\"), 5000)\n",
              "            handshake.then(function(child) {\n",
              "                child.on('authorize', data => {\n",
              "                    clearTimeout(timeout)\n",
              "                    resolve(data)\n",
              "                });\n",
              "            });\n",
              "            })\n",
              "        });\n",
              "    "
            ]
          },
          "metadata": {}
        },
        {
          "output_type": "stream",
          "name": "stderr",
          "text": [
            "\u001b[34m\u001b[1mwandb\u001b[0m: Logging into wandb.ai. (Learn how to deploy a W&B server locally: https://wandb.me/wandb-server)\n",
            "\u001b[34m\u001b[1mwandb\u001b[0m: You can find your API key in your browser here: https://wandb.ai/authorize\n",
            "wandb: Paste an API key from your profile and hit enter, or press ctrl+c to quit:"
          ]
        },
        {
          "name": "stdout",
          "output_type": "stream",
          "text": [
            " ··········\n"
          ]
        },
        {
          "output_type": "stream",
          "name": "stderr",
          "text": [
            "\u001b[34m\u001b[1mwandb\u001b[0m: Appending key for api.wandb.ai to your netrc file: /root/.netrc\n"
          ]
        },
        {
          "output_type": "execute_result",
          "data": {
            "text/plain": [
              "True"
            ]
          },
          "metadata": {},
          "execution_count": 2
        }
      ]
    },
    {
      "cell_type": "code",
      "source": [
        "from roboflow import Roboflow\n",
        "from google.colab import userdata\n",
        "\n",
        "rf = Roboflow(api_key=userdata.get(\"ROBOFLOW\"))\n",
        "project = rf.workspace(\"my-workspace-wpvic\").project(\"trash-type-classification\")\n",
        "version = project.version(1)\n",
        "dataset = version.download(\"folder\")\n",
        "\n",
        "!mv ./Trash-Type-Classification-1/valid ./Trash-Type-Classification-1/val # rename val directory"
      ],
      "metadata": {
        "colab": {
          "base_uri": "https://localhost:8080/"
        },
        "id": "8oxH-9Y7QaMM",
        "outputId": "e504ad48-1f51-4fa5-930d-a0b1e93f2f66"
      },
      "execution_count": null,
      "outputs": [
        {
          "output_type": "stream",
          "name": "stdout",
          "text": [
            "loading Roboflow workspace...\n",
            "loading Roboflow project...\n"
          ]
        },
        {
          "output_type": "stream",
          "name": "stderr",
          "text": [
            "Downloading Dataset Version Zip in Trash-Type-Classification-1 to folder:: 100%|██████████| 42820/42820 [00:03<00:00, 11164.48it/s]"
          ]
        },
        {
          "output_type": "stream",
          "name": "stdout",
          "text": [
            "\n"
          ]
        },
        {
          "output_type": "stream",
          "name": "stderr",
          "text": [
            "\n",
            "Extracting Dataset Version Zip to Trash-Type-Classification-1 in folder:: 100%|██████████| 2540/2540 [00:00<00:00, 5287.55it/s]\n"
          ]
        }
      ]
    },
    {
      "cell_type": "code",
      "source": [
        "!git clone https://github.com/ultralytics/yolov5.git\n",
        "!pip install -qr ./yolov5/requirements.txt"
      ],
      "metadata": {
        "colab": {
          "base_uri": "https://localhost:8080/"
        },
        "id": "HAcez08DRBwm",
        "outputId": "89825862-9de5-431e-b8e9-5b71ee412067"
      },
      "execution_count": null,
      "outputs": [
        {
          "output_type": "stream",
          "name": "stdout",
          "text": [
            "Cloning into 'yolov5'...\n",
            "remote: Enumerating objects: 17075, done.\u001b[K\n",
            "remote: Counting objects: 100% (26/26), done.\u001b[K\n",
            "remote: Compressing objects: 100% (19/19), done.\u001b[K\n",
            "remote: Total 17075 (delta 19), reused 7 (delta 7), pack-reused 17049 (from 2)\u001b[K\n",
            "Receiving objects: 100% (17075/17075), 15.68 MiB | 16.20 MiB/s, done.\n",
            "Resolving deltas: 100% (11719/11719), done.\n",
            "\u001b[2K   \u001b[90m━━━━━━━━━━━━━━━━━━━━━━━━━━━━━━━━━━━━━━━━\u001b[0m \u001b[32m901.3/901.3 kB\u001b[0m \u001b[31m49.3 MB/s\u001b[0m eta \u001b[36m0:00:00\u001b[0m\n",
            "\u001b[?25h"
          ]
        }
      ]
    },
    {
      "cell_type": "markdown",
      "source": [
        "# Training"
      ],
      "metadata": {
        "id": "KVgKgmh3lV6S"
      }
    },
    {
      "cell_type": "code",
      "source": [
        "%cd yolov5\n",
        "!python classify/train.py --model yolov5s-cls.pt --data ../Trash-Type-Classification-1 --epochs 50 --img-size 512 --pretrained weights/yolov5s-cls.pt"
      ],
      "metadata": {
        "colab": {
          "base_uri": "https://localhost:8080/"
        },
        "id": "ikWCfNtQQbaz",
        "outputId": "46c56894-ce6e-4144-af2f-25967d92fecf"
      },
      "execution_count": null,
      "outputs": [
        {
          "output_type": "stream",
          "name": "stdout",
          "text": [
            "/content/yolov5\n",
            "Creating new Ultralytics Settings v0.0.6 file ✅ \n",
            "View Ultralytics Settings with 'yolo settings' or at '/root/.config/Ultralytics/settings.json'\n",
            "Update Settings with 'yolo settings key=value', i.e. 'yolo settings runs_dir=path/to/dir'. For help see https://docs.ultralytics.com/quickstart/#ultralytics-settings.\n",
            "\u001b[34m\u001b[1mwandb\u001b[0m: WARNING ⚠️ wandb is deprecated and will be removed in a future release. See supported integrations at https://github.com/ultralytics/yolov5#integrations.\n",
            "2024-12-20 04:23:58.202130: E external/local_xla/xla/stream_executor/cuda/cuda_fft.cc:485] Unable to register cuFFT factory: Attempting to register factory for plugin cuFFT when one has already been registered\n",
            "2024-12-20 04:23:58.223442: E external/local_xla/xla/stream_executor/cuda/cuda_dnn.cc:8454] Unable to register cuDNN factory: Attempting to register factory for plugin cuDNN when one has already been registered\n",
            "2024-12-20 04:23:58.229801: E external/local_xla/xla/stream_executor/cuda/cuda_blas.cc:1452] Unable to register cuBLAS factory: Attempting to register factory for plugin cuBLAS when one has already been registered\n",
            "\u001b[34m\u001b[1mwandb\u001b[0m: Currently logged in as: \u001b[33msoyokaze83\u001b[0m (\u001b[33msoyokaze83-universitas-indonesia\u001b[0m). Use \u001b[1m`wandb login --relogin`\u001b[0m to force relogin\n",
            "\u001b[34m\u001b[1mclassify/train: \u001b[0mmodel=yolov5s-cls.pt, data=../Trash-Type-Classification-1, epochs=50, batch_size=64, imgsz=512, nosave=False, cache=None, device=, workers=8, project=runs/train-cls, name=exp, exist_ok=False, pretrained=weights/yolov5s-cls.pt, optimizer=Adam, lr0=0.001, decay=5e-05, label_smoothing=0.1, cutoff=None, dropout=None, verbose=False, seed=0, local_rank=-1\n",
            "\u001b[34m\u001b[1mgithub: \u001b[0mup to date with https://github.com/ultralytics/yolov5 ✅\n",
            "YOLOv5 🚀 v7.0-389-ge62a31b6 Python-3.10.12 torch-2.5.1+cu121 CUDA:0 (Tesla T4, 15102MiB)\n",
            "\n",
            "\u001b[34m\u001b[1mTensorBoard: \u001b[0mStart with 'tensorboard --logdir runs/train-cls', view at http://localhost:6006/\n",
            "\u001b[34m\u001b[1mwandb\u001b[0m: Tracking run with wandb version 0.19.1\n",
            "\u001b[34m\u001b[1mwandb\u001b[0m: Run data is saved locally in \u001b[35m\u001b[1m/content/yolov5/wandb/run-20241220_042402-t6ho3wnf\u001b[0m\n",
            "\u001b[34m\u001b[1mwandb\u001b[0m: Run \u001b[1m`wandb offline`\u001b[0m to turn off syncing.\n",
            "\u001b[34m\u001b[1mwandb\u001b[0m: Syncing run \u001b[33mdrawn-eon-5\u001b[0m\n",
            "\u001b[34m\u001b[1mwandb\u001b[0m: ⭐️ View project at \u001b[34m\u001b[4mhttps://wandb.ai/soyokaze83-universitas-indonesia/YOLOv5-Classify\u001b[0m\n",
            "\u001b[34m\u001b[1mwandb\u001b[0m: 🚀 View run at \u001b[34m\u001b[4mhttps://wandb.ai/soyokaze83-universitas-indonesia/YOLOv5-Classify/runs/t6ho3wnf\u001b[0m\n",
            "\u001b[34m\u001b[1malbumentations: \u001b[0mRandomResizedCrop(p=1.0, size=(512, 512), scale=(0.08, 1.0), ratio=(0.75, 1.3333333333333333), interpolation=1, mask_interpolation=0), HorizontalFlip(p=0.5), ColorJitter(p=0.5, brightness=(0.6, 1.4), contrast=(0.6, 1.4), saturation=(0.6, 1.4), hue=(0.0, 0.0)), Normalize(p=1.0, mean=(0.485, 0.456, 0.406), std=(0.229, 0.224, 0.225), max_pixel_value=255.0, normalization='standard'), ToTensorV2(p=1.0, transpose_mask=False)\n",
            "Downloading https://github.com/ultralytics/yolov5/releases/download/v7.0/yolov5s-cls.pt to yolov5s-cls.pt...\n",
            "100% 10.5M/10.5M [00:00<00:00, 143MB/s]\n",
            "\n",
            "Model summary: 149 layers, 4180166 parameters, 4180166 gradients, 10.5 GFLOPs\n",
            "\u001b[34m\u001b[1moptimizer:\u001b[0m Adam(lr=0.001) with parameter groups 32 weight(decay=0.0), 33 weight(decay=5e-05), 33 bias\n",
            "/content/yolov5/classify/train.py:201: FutureWarning: `torch.cuda.amp.GradScaler(args...)` is deprecated. Please use `torch.amp.GradScaler('cuda', args...)` instead.\n",
            "  scaler = amp.GradScaler(enabled=cuda)\n",
            "Image sizes 512 train, 512 test\n",
            "Using 1 dataloader workers\n",
            "Logging results to \u001b[1mruns/train-cls/exp\u001b[0m\n",
            "Starting yolov5s-cls.pt training on ../Trash-Type-Classification-1 dataset with 6 classes for 50 epochs...\n",
            "\n",
            "     Epoch   GPU_mem  train_loss    val_loss    top1_acc    top5_acc\n",
            "  0% 0/32 [00:00<?, ?it/s]/content/yolov5/classify/train.py:222: FutureWarning: `torch.cuda.amp.autocast(args...)` is deprecated. Please use `torch.amp.autocast('cuda', args...)` instead.\n",
            "  with amp.autocast(enabled=cuda):  # stability issues when enabled\n",
            "      1/50     6.87G        1.66                          validating:   0% 0/4 [00:00<?, ?it/s]/content/yolov5/classify/val.py:111: FutureWarning: `torch.cuda.amp.autocast(args...)` is deprecated. Please use `torch.amp.autocast('cuda', args...)` instead.\n",
            "  with torch.cuda.amp.autocast(enabled=device.type != \"cpu\"):\n",
            "      1/50     6.87G        1.66        1.76       0.234       0.931: 100% 32/32 [00:29<00:00,  1.09it/s]\n",
            "      2/50     8.22G        1.53        1.62       0.364       0.935: 100% 32/32 [00:30<00:00,  1.06it/s]\n",
            "      3/50     8.22G         1.5        1.81       0.346       0.957: 100% 32/32 [00:31<00:00,  1.01it/s]\n",
            "      4/50     8.22G        1.52        1.66       0.431       0.961: 100% 32/32 [00:31<00:00,  1.01it/s]\n",
            "      5/50     8.22G        1.46        1.69       0.409       0.927: 100% 32/32 [00:29<00:00,  1.07it/s]\n",
            "      6/50     8.22G        1.47        1.47       0.451       0.963: 100% 32/32 [00:29<00:00,  1.08it/s]\n",
            "      7/50     8.22G        1.45        1.46       0.465       0.961: 100% 32/32 [00:29<00:00,  1.10it/s]\n",
            "      8/50     8.22G        1.44        1.41        0.52       0.982: 100% 32/32 [00:27<00:00,  1.15it/s]\n",
            "      9/50     8.22G        1.45        1.42       0.533       0.967: 100% 32/32 [00:29<00:00,  1.10it/s]\n",
            "     10/50     8.22G        1.42         1.4       0.482        0.98: 100% 32/32 [00:30<00:00,  1.05it/s]\n",
            "     11/50     8.22G        1.43        1.37       0.533       0.976: 100% 32/32 [00:29<00:00,  1.10it/s]\n",
            "     12/50     8.22G        1.38         1.5       0.409       0.949: 100% 32/32 [00:29<00:00,  1.07it/s]\n",
            "     13/50     8.22G        1.41        1.32       0.531       0.984: 100% 32/32 [00:28<00:00,  1.11it/s]\n",
            "     14/50     8.22G        1.39        1.37        0.53       0.959: 100% 32/32 [00:28<00:00,  1.12it/s]\n",
            "     15/50     8.22G        1.41        1.34       0.537       0.988: 100% 32/32 [00:29<00:00,  1.07it/s]\n",
            "     16/50     8.22G        1.39        1.34       0.514       0.986: 100% 32/32 [00:29<00:00,  1.09it/s]\n",
            "     17/50     8.22G        1.37        1.37       0.504       0.976: 100% 32/32 [00:30<00:00,  1.04it/s]\n",
            "     18/50     8.22G        1.35        1.32       0.514       0.972: 100% 32/32 [00:27<00:00,  1.15it/s]\n",
            "     19/50     8.22G        1.35        1.29       0.575       0.984: 100% 32/32 [00:29<00:00,  1.07it/s]\n",
            "     20/50     8.22G        1.37        1.51       0.463        0.97: 100% 32/32 [00:29<00:00,  1.08it/s]\n",
            "     21/50     8.22G        1.38        1.34       0.508       0.974: 100% 32/32 [00:30<00:00,  1.06it/s]\n",
            "     22/50     8.22G        1.35        1.28       0.541       0.974: 100% 32/32 [00:28<00:00,  1.12it/s]\n",
            "     23/50     8.22G        1.32        1.29       0.543        0.98: 100% 32/32 [00:31<00:00,  1.03it/s]\n",
            "     24/50     8.22G        1.34        1.32       0.553       0.982: 100% 32/32 [00:29<00:00,  1.09it/s]\n",
            "     25/50     8.22G         1.3        1.26       0.587       0.986: 100% 32/32 [00:29<00:00,  1.07it/s]\n",
            "     26/50     8.22G        1.29        1.27       0.555       0.982: 100% 32/32 [00:29<00:00,  1.07it/s]\n",
            "     27/50     8.22G        1.29        1.31       0.551        0.97: 100% 32/32 [00:29<00:00,  1.10it/s]\n",
            "     28/50     8.22G        1.27        1.19        0.63        0.99: 100% 32/32 [00:27<00:00,  1.15it/s]\n",
            "     29/50     8.22G        1.28        1.38       0.539       0.988: 100% 32/32 [00:29<00:00,  1.10it/s]\n",
            "     30/50     8.22G        1.26        1.24       0.602       0.986: 100% 32/32 [00:31<00:00,  1.01it/s]\n",
            "     31/50     8.22G        1.23        1.19        0.62       0.984: 100% 32/32 [00:29<00:00,  1.08it/s]\n",
            "     32/50     8.22G        1.22        1.13       0.652       0.982: 100% 32/32 [00:29<00:00,  1.09it/s]\n",
            "     33/50     8.22G        1.18        1.12       0.661       0.974: 100% 32/32 [00:28<00:00,  1.12it/s]\n",
            "     34/50     8.22G         1.2        1.16        0.62        0.99: 100% 32/32 [00:29<00:00,  1.08it/s]\n",
            "     35/50     8.22G        1.18        1.17       0.628       0.982: 100% 32/32 [00:29<00:00,  1.09it/s]\n",
            "     36/50     8.22G        1.18        1.11       0.657       0.984: 100% 32/32 [00:32<00:00,  1.01s/it]\n",
            "     37/50     8.22G        1.17        1.07       0.677       0.982: 100% 32/32 [00:29<00:00,  1.10it/s]\n",
            "     38/50     8.22G        1.18        1.21       0.614       0.988: 100% 32/32 [00:28<00:00,  1.12it/s]\n",
            "     39/50     8.22G        1.17        1.05       0.713        0.99: 100% 32/32 [00:29<00:00,  1.08it/s]\n",
            "     40/50     8.22G        1.15        1.08       0.689       0.988: 100% 32/32 [00:30<00:00,  1.06it/s]\n",
            "     41/50     8.22G        1.13        1.03       0.717       0.984: 100% 32/32 [00:29<00:00,  1.08it/s]\n",
            "     42/50     8.22G        1.12        1.08       0.683       0.986: 100% 32/32 [00:30<00:00,  1.06it/s]\n",
            "     43/50     8.22G         1.1        1.02       0.726       0.984: 100% 32/32 [00:32<00:00,  1.01s/it]\n",
            "     44/50     8.22G        1.12        1.06       0.679        0.99: 100% 32/32 [00:28<00:00,  1.11it/s]\n",
            "     45/50     8.22G        1.08       0.995       0.746       0.988: 100% 32/32 [00:29<00:00,  1.09it/s]\n",
            "     46/50     8.22G         1.1       0.997       0.728       0.988: 100% 32/32 [00:29<00:00,  1.09it/s]\n",
            "     47/50     8.22G        1.07        0.99        0.73        0.98: 100% 32/32 [00:29<00:00,  1.09it/s]\n",
            "     48/50     8.22G        1.08        1.01       0.732        0.99: 100% 32/32 [00:28<00:00,  1.12it/s]\n",
            "     49/50     8.22G        1.07       0.985       0.746       0.988: 100% 32/32 [00:31<00:00,  1.02it/s]\n",
            "     50/50     8.22G        1.07       0.964       0.762        0.99: 100% 32/32 [00:29<00:00,  1.07it/s]\n",
            "\n",
            "Training complete (0.415 hours)\n",
            "Results saved to \u001b[1mruns/train-cls/exp\u001b[0m\n",
            "Predict:         python classify/predict.py --weights runs/train-cls/exp/weights/best.pt --source im.jpg\n",
            "Validate:        python classify/val.py --weights runs/train-cls/exp/weights/best.pt --data ../Trash-Type-Classification-1\n",
            "Export:          python export.py --weights runs/train-cls/exp/weights/best.pt --include onnx\n",
            "PyTorch Hub:     model = torch.hub.load('ultralytics/yolov5', 'custom', 'runs/train-cls/exp/weights/best.pt')\n",
            "Visualize:       https://netron.app\n",
            "\n"
          ]
        }
      ]
    }
  ]
}